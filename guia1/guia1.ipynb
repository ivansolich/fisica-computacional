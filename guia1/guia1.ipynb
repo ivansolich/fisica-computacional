{
 "cells": [
  {
   "metadata": {},
   "cell_type": "markdown",
   "source": [
    "\n",
    "1. Use forward-, central-, and extrapolated-difference algorithms to differentiate\n",
    "the functions $\\cos t$ and $e^t$ at $t = 0.1, 1.,$ and $100.$\n",
    "    1. Print out the derivative and its relative error $\\epsilon$ as functions of $h$. Reduce\n",
    "the step size $h$ until it equals machine precision $h \\approx \\epsilon_m$.\n",
    "    2. Plot $\\log_{10} |\\epsilon|$ versus $\\log_{10}$ $h$ and check whether the number of decimal\n",
    "places obtained agrees with the estimates in the text.\n",
    "    3. See if you can identify regions where truncation error dominates at large\n",
    "$h$ and round-off error at small h in your plot. Do the slopes agree with our\n",
    "model’s predictions?"
   ],
   "id": "72435c433e3b4d35"
  },
  {
   "metadata": {},
   "cell_type": "code",
   "outputs": [],
   "execution_count": null,
   "source": "",
   "id": "b43157fb7606ddf1"
  }
 ],
 "metadata": {
  "kernelspec": {
   "display_name": "Python 3",
   "language": "python",
   "name": "python3"
  },
  "language_info": {
   "codemirror_mode": {
    "name": "ipython",
    "version": 2
   },
   "file_extension": ".py",
   "mimetype": "text/x-python",
   "name": "python",
   "nbconvert_exporter": "python",
   "pygments_lexer": "ipython2",
   "version": "2.7.6"
  }
 },
 "nbformat": 4,
 "nbformat_minor": 5
}
